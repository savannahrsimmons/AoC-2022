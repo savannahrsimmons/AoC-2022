{
 "cells": [
  {
   "cell_type": "code",
   "execution_count": 47,
   "id": "14625146",
   "metadata": {},
   "outputs": [
    {
     "name": "stdout",
     "output_type": "stream",
     "text": [
      "66719\n"
     ]
    }
   ],
   "source": [
    "input = open('elf_calories.txt', 'r')\n",
    "\n",
    "current_max = 0\n",
    "current_total = 0\n",
    "for i in input.readlines():\n",
    "    if(i == \"\\n\"):\n",
    "        current_total = 0\n",
    "    else:\n",
    "        current_total += int(i)\n",
    "    \n",
    "    if(current_total > current_max):\n",
    "        current_max = current_total\n",
    "        \n",
    "print(current_max)"
   ]
  },
  {
   "cell_type": "code",
   "execution_count": 48,
   "id": "bc3810cb",
   "metadata": {},
   "outputs": [
    {
     "name": "stdout",
     "output_type": "stream",
     "text": [
      "198551\n"
     ]
    }
   ],
   "source": [
    "input = open('elf_calories.txt', 'r')\n",
    "\n",
    "current_max1 = 0\n",
    "current_max2 = 0\n",
    "current_max3 = 0\n",
    "current_total = 0\n",
    "for i in input.readlines():\n",
    "    if i == \"\\n\":\n",
    "        current_total = 0\n",
    "    else:\n",
    "        current_total += int(i)\n",
    "    \n",
    "    if current_total > current_max1:\n",
    "        current_max3 = current_max2\n",
    "        current_max2 = current_max1\n",
    "        current_max1 = current_total\n",
    "    elif current_total > current_max2:\n",
    "        current_max3 = current_max2\n",
    "        current_max2 = current_total\n",
    "    elif current_total > current_max3:\n",
    "        current_max3 = current_total\n",
    "        \n",
    "        \n",
    "print(current_max1 + current_max2 + current_max3)\n",
    "        "
   ]
  }
 ],
 "metadata": {
  "kernelspec": {
   "display_name": "Python 3 (ipykernel)",
   "language": "python",
   "name": "python3"
  },
  "language_info": {
   "codemirror_mode": {
    "name": "ipython",
    "version": 3
   },
   "file_extension": ".py",
   "mimetype": "text/x-python",
   "name": "python",
   "nbconvert_exporter": "python",
   "pygments_lexer": "ipython3",
   "version": "3.9.12"
  }
 },
 "nbformat": 4,
 "nbformat_minor": 5
}
