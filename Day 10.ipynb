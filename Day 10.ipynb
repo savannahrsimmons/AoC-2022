{
 "cells": [
  {
   "cell_type": "code",
   "execution_count": 13,
   "id": "140577b5",
   "metadata": {},
   "outputs": [
    {
     "name": "stdout",
     "output_type": "stream",
     "text": [
      "12520\n"
     ]
    }
   ],
   "source": [
    "input = open('day_10.txt')\n",
    "\n",
    "\n",
    "cycle = 1\n",
    "x = 1\n",
    "strengths_sum = 0\n",
    "for line in input.readlines():\n",
    "    line = line.strip()\n",
    "    cycle += 1\n",
    "    #print('cycle =',cycle) \n",
    "    #print('x =',x)\n",
    "    #print('sum =',strengths_sum)\n",
    "    if cycle == 20 or (cycle - 20) % 40 == 0:\n",
    "        strengths_sum += cycle * x\n",
    "    if line[0] == 'a':\n",
    "        cycle += 1\n",
    "        if line[5] == '-':\n",
    "            x -= int(line[6:])\n",
    "        else:\n",
    "            x += int(line[5:])\n",
    "        if cycle == 20 or (cycle - 20) % 40 == 0:\n",
    "            strengths_sum += cycle * x\n",
    "\n",
    "print(strengths_sum)\n",
    "        \n",
    "        "
   ]
  },
  {
   "cell_type": "code",
   "execution_count": 51,
   "id": "c504498e",
   "metadata": {},
   "outputs": [
    {
     "name": "stdout",
     "output_type": "stream",
     "text": [
      "####.#..#.###..####.###....##..##..#....\n",
      "#....#..#.#..#....#.#..#....#.#..#.#...#\n",
      "###..####.#..#...#..#..#....#.#....#....\n",
      "#....#..#.###...#...###.....#.#.##.#....\n",
      "#....#..#.#....#....#....#..#.#..#.#....\n",
      "####.#..#.#....####.#.....##...###.####.\n"
     ]
    }
   ],
   "source": [
    "input = open('day_10.txt')\n",
    "\n",
    "cycle = 1\n",
    "sprite = 1\n",
    "strengths_sum = 0\n",
    "row = 0\n",
    "col = 0\n",
    "#s 16 c 3\n",
    "for line in input.readlines():\n",
    "    line = line.strip()\n",
    "    #print(line)\n",
    "    #print('cycle =',cycle) \n",
    "    #print('sprite =',sprite)\n",
    "    \n",
    "    if (cycle == 121) or (cycle == 161):\n",
    "        print(line)\n",
    "        print('cycle =',cycle) \n",
    "        print('sprite =',sprite)\n",
    "    if cycle % 40 - abs(sprite) % 40 <= 2 and cycle % 40 - abs(sprite) % 40 >= 0:\n",
    "        print('#',end=\"\")\n",
    "    else:\n",
    "        print('.',end=\"\")\n",
    "    cycle += 1\n",
    "    #if (cycle == 121) or (cycle == 161):\n",
    "        #print(line)\n",
    "        #print('cycle =',cycle) \n",
    "        #print('sprite =',sprite)\n",
    "    if (cycle - 1) % 40 == 0:\n",
    "        print()\n",
    "    if line[0] == 'a':\n",
    "        if cycle % 40 - abs(sprite) % 40 <= 2 and cycle % 40 - abs(sprite) % 40 >= 0:\n",
    "            print('#',end=\"\")\n",
    "        else:\n",
    "            print('.',end=\"\")\n",
    "        #print('cycle =',cycle) \n",
    "        #print('sprite =',sprite)\n",
    "        #print('---')\n",
    "        if line[5] == '-':\n",
    "            sprite -= int(line[6:])\n",
    "        else:\n",
    "            sprite += int(line[5:])\n",
    "        cycle += 1\n",
    "        if (cycle - 1) % 40 == 0:\n",
    "            print()\n",
    "\n",
    "#print(strengths_sum)\n",
    "        \n",
    "        "
   ]
  }
 ],
 "metadata": {
  "kernelspec": {
   "display_name": "Python 3 (ipykernel)",
   "language": "python",
   "name": "python3"
  },
  "language_info": {
   "codemirror_mode": {
    "name": "ipython",
    "version": 3
   },
   "file_extension": ".py",
   "mimetype": "text/x-python",
   "name": "python",
   "nbconvert_exporter": "python",
   "pygments_lexer": "ipython3",
   "version": "3.9.12"
  }
 },
 "nbformat": 4,
 "nbformat_minor": 5
}
