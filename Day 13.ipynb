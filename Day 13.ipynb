{
 "cells": [
  {
   "cell_type": "code",
   "execution_count": 4,
   "id": "868dafaa",
   "metadata": {},
   "outputs": [
    {
     "name": "stdout",
     "output_type": "stream",
     "text": [
      "[3, 4, 5, 6, 9, 11, 13, 16, 17, 18, 19, 20, 23, 24, 25, 27, 28, 29, 32, 36, 38, 44, 45, 46, 47, 51, 52, 53, 55, 56, 57, 59, 60, 61, 62, 66, 69, 70, 72, 73, 74, 78, 80, 81, 86, 89, 90, 91, 92, 94, 96, 97, 100, 102, 103, 104, 106, 107, 113, 114, 115, 119, 120, 121, 123, 125, 126, 127, 128, 129, 130, 133, 136, 141, 144, 146, 149, 150]\n",
      "5760\n"
     ]
    }
   ],
   "source": [
    "input = open('day_13.txt').readlines()\n",
    "\n",
    "'''\n",
    "#version that only worked for part 1\n",
    "def compare_lists(left, right):\n",
    "    correct = True\n",
    "    \n",
    "    for i in range(0,max(len(left),len(right))):\n",
    "        print(i,left,right)\n",
    "        \n",
    "        if i == len(left):\n",
    "            print('3')\n",
    "            return True\n",
    "        elif i == len(right):\n",
    "            return False\n",
    "        \n",
    "        if type(left[i]) == int and type(right[i]) == int:\n",
    "            if left[i] > right[i]:\n",
    "                return False\n",
    "            # Not sure on this part\n",
    "            if left[i] < right[i]:\n",
    "                print('four')\n",
    "                return True\n",
    "\n",
    "        elif type(left[i]) == list and type(right[i]) == list:\n",
    "            print('one')\n",
    "            return compare_lists(left[i], right[i])\n",
    "        elif type(left[i]) == int:\n",
    "            return compare_lists([left[i]], right[i])\n",
    "        else:\n",
    "            print('two')\n",
    "            return compare_lists(left[i], [right[i]])\n",
    "        print(i)\n",
    "    return correct\n",
    "'''\n",
    "\n",
    "\n",
    "#print(compare_lists([[[6], [7, 7, 6, [8, 0]], 4], []], [[6]]))\n",
    "\n",
    "\n",
    "def compare_lists(left,right):\n",
    "    if type(left) == int and type(right) == int:\n",
    "        if left == right:\n",
    "            return\n",
    "        else:\n",
    "            return left < right\n",
    "        \n",
    "    if type(left) == int: \n",
    "        left = [left]\n",
    "        \n",
    "    if type(right) == int:\n",
    "        right = [right]\n",
    "        \n",
    "    for i in range(0,min(len(left),len(right))):\n",
    "        \n",
    "        correct = compare_lists(left[i], right[i])\n",
    "        if correct is not None:\n",
    "            return correct\n",
    "        \n",
    "    if len(left) < len(right):\n",
    "        return True\n",
    "    \n",
    "    if len(left) > len(right):\n",
    "        return False\n",
    "    \n",
    "    return\n",
    "\n",
    "\n",
    "indices = []\n",
    "for i in range(0,len(input),3):\n",
    "    if compare_lists(eval(input[i]),eval(input[i+1])):\n",
    "        indices.append(int(i/3) + 1)\n",
    "        \n",
    "        \n",
    "print(indices)\n",
    "total = 0\n",
    "for i in indices:\n",
    "    total += i\n",
    "print(total)\n",
    "#print(input)\n"
   ]
  },
  {
   "cell_type": "code",
   "execution_count": 5,
   "id": "c320e858",
   "metadata": {},
   "outputs": [
    {
     "name": "stdout",
     "output_type": "stream",
     "text": [
      "127 210 26670\n",
      "True\n"
     ]
    }
   ],
   "source": [
    "import functools\n",
    "\n",
    "index_2 = 1\n",
    "index_6 = 1\n",
    "for line in input:\n",
    "    if line != '\\n':\n",
    "        if compare_lists(eval(line),[[2]]):\n",
    "            index_2 += 1\n",
    "        if compare_lists(eval(line),[[6]]):\n",
    "            index_6 += 1\n",
    "            \n",
    "print(index_2,index_6+1,index_2 * (index_6+1))\n",
    "\n",
    "print(compare_lists([[6]],[[6, 0, [], 3]]))\n",
    "        \n",
    "#packets_sorted = sorted(packets, key=functools.cmp_to_key(compare_lists))\n",
    "#print(sorted(packets, key=functools.cmp_to_key(compare_lists)))\n",
    "#print(packets)\n",
    "#print((1 + packets_sorted.index([[2]])) * (1 + packets_sorted.index([[6]])))\n",
    "\n"
   ]
  }
 ],
 "metadata": {
  "kernelspec": {
   "display_name": "Python 3 (ipykernel)",
   "language": "python",
   "name": "python3"
  },
  "language_info": {
   "codemirror_mode": {
    "name": "ipython",
    "version": 3
   },
   "file_extension": ".py",
   "mimetype": "text/x-python",
   "name": "python",
   "nbconvert_exporter": "python",
   "pygments_lexer": "ipython3",
   "version": "3.9.12"
  }
 },
 "nbformat": 4,
 "nbformat_minor": 5
}
