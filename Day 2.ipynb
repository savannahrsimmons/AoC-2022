{
 "cells": [
  {
   "cell_type": "code",
   "execution_count": 3,
   "id": "b62e9743",
   "metadata": {},
   "outputs": [
    {
     "name": "stdout",
     "output_type": "stream",
     "text": [
      "10404\n"
     ]
    }
   ],
   "source": [
    "# A = Rock   B = Paper  C = Scissors\n",
    "# X = Rock   Y = Paper  Z = Scissors\n",
    "\n",
    "input = open('strategy_code.txt')\n",
    "\n",
    "score = 0\n",
    "\n",
    "for line in input.readlines():\n",
    "    if line[0] == 'A':\n",
    "        # Both rock (+1) and tie (+3)\n",
    "        if line[2] == 'X':\n",
    "            score += 4\n",
    "        # Them rock, us paper (+2) and win (+6)\n",
    "        elif line[2] == 'Y':\n",
    "            score += 8\n",
    "        # Them rock, us scissors (+3) and lose (+0)\n",
    "        else:\n",
    "            score +=3\n",
    "    elif line[0] == 'B':\n",
    "        # Them paper, us rock (+1) and lose (+0)\n",
    "        if line[2] == 'X':\n",
    "            score += 1\n",
    "        # Both paper(+2) and tie (+3)\n",
    "        elif line[2] == 'Y':\n",
    "            score += 5\n",
    "        # Them paper, us scissors (+3) and win (+6)\n",
    "        else:\n",
    "            score += 9\n",
    "    else:\n",
    "        # Them scissors, us rock (+1) and win (+6)\n",
    "        if line[2] == 'X':\n",
    "            score += 7\n",
    "        # Them scissors, us paper (+2) and lose (+0)\n",
    "        elif line[2] == 'Y':\n",
    "            score += 2\n",
    "        # Both scissors (+3) and tie (+3)\n",
    "        else:\n",
    "            score += 6\n",
    "            \n",
    "print(score)"
   ]
  },
  {
   "cell_type": "code",
   "execution_count": 4,
   "id": "3ec28cf9",
   "metadata": {},
   "outputs": [
    {
     "name": "stdout",
     "output_type": "stream",
     "text": [
      "10334\n"
     ]
    }
   ],
   "source": [
    "# A = Rock   B = Paper  C = Scissors\n",
    "# X = Lose   Y = Tie    Z = Win\n",
    "\n",
    "input = open('strategy_code.txt')\n",
    "\n",
    "score = 0\n",
    "\n",
    "for line in input.readlines():\n",
    "    if line[0] == 'A':\n",
    "        # Them rock and lose (+0), so scissors (+3)\n",
    "        if line[2] == 'X':\n",
    "            score += 3\n",
    "        # Them rock and tie (+3), so rock (+1)\n",
    "        elif line[2] == 'Y':\n",
    "            score += 4\n",
    "        # Them rock and win (+6), so paper (+2)\n",
    "        else:\n",
    "            score += 8\n",
    "    elif line[0] == 'B':\n",
    "        # Them paper and lose (+0), so rock (+1)\n",
    "        if line[2] == 'X':\n",
    "            score += 1\n",
    "        # Them paper and tie (+3), so paper (+2)\n",
    "        elif line[2] == 'Y':\n",
    "            score += 5\n",
    "        # Them paper and win (+6), so scissors (+3)\n",
    "        else:\n",
    "            score += 9\n",
    "    else:\n",
    "        # Them scissors and lose (+0), so paper (+2)\n",
    "        if line[2] == 'X':\n",
    "            score += 2\n",
    "        # Them scissors and tie (+3), so scissors (+3)\n",
    "        elif line[2] == 'Y':\n",
    "            score += 6\n",
    "        # Them scissors and win (+6), so rock (+1)\n",
    "        else:\n",
    "            score += 7\n",
    "            \n",
    "print(score)"
   ]
  }
 ],
 "metadata": {
  "kernelspec": {
   "display_name": "Python 3 (ipykernel)",
   "language": "python",
   "name": "python3"
  },
  "language_info": {
   "codemirror_mode": {
    "name": "ipython",
    "version": 3
   },
   "file_extension": ".py",
   "mimetype": "text/x-python",
   "name": "python",
   "nbconvert_exporter": "python",
   "pygments_lexer": "ipython3",
   "version": "3.9.12"
  }
 },
 "nbformat": 4,
 "nbformat_minor": 5
}
