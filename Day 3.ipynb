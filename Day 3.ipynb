{
 "cells": [
  {
   "cell_type": "code",
   "execution_count": 7,
   "id": "933c42be",
   "metadata": {},
   "outputs": [
    {
     "name": "stdout",
     "output_type": "stream",
     "text": [
      "8109\n"
     ]
    }
   ],
   "source": [
    "input = open('rucksack_compartments.txt')\n",
    "\n",
    "alpha_order = \" abcdefghijklmnopqrstuvwxyzABCDEFGHIJKLMNOPQRSTUVWXYZ\"\n",
    "total = 0\n",
    "\n",
    "for line in input.readlines():\n",
    "    letter_set = set()\n",
    "    result = 0\n",
    "    for i in range(0,int(len(line)/2)):\n",
    "        letter_set.add(line[i])\n",
    "    for i in range(int(len(line)/2),len(line)):\n",
    "        if line[i] in letter_set:\n",
    "            result = alpha_order.index(line[i])\n",
    "            break\n",
    "    \n",
    "    total += result\n",
    "    \n",
    "print(total)"
   ]
  },
  {
   "cell_type": "code",
   "execution_count": 19,
   "id": "5362f064",
   "metadata": {},
   "outputs": [
    {
     "name": "stdout",
     "output_type": "stream",
     "text": [
      "2738\n"
     ]
    }
   ],
   "source": [
    "input = open('rucksack_compartments.txt')\n",
    "\n",
    "total = 0\n",
    "counter = 1\n",
    "\n",
    "for line in input.readlines():\n",
    "    if counter == 1:\n",
    "        letter_set1 = set()\n",
    "        letter_set2 = set()\n",
    "        letter_set3 = set()\n",
    "        for c in line:\n",
    "            if c != '\\n':\n",
    "                letter_set1.add(c)\n",
    "        counter = 2\n",
    "    elif counter == 2:\n",
    "        for c in line:\n",
    "            if c != '\\n':\n",
    "                letter_set2.add(c)\n",
    "        counter = 3\n",
    "    elif counter == 3:\n",
    "        for c in line:\n",
    "            if c != '\\n':\n",
    "                letter_set3.add(c)\n",
    "        intersection = letter_set1 & letter_set2 & letter_set3\n",
    "        total += alpha_order.index(min(intersection))\n",
    "        counter = 1\n",
    "\n",
    "print(total)"
   ]
  },
  {
   "cell_type": "code",
   "execution_count": null,
   "id": "0198759f",
   "metadata": {},
   "outputs": [],
   "source": []
  }
 ],
 "metadata": {
  "kernelspec": {
   "display_name": "Python 3 (ipykernel)",
   "language": "python",
   "name": "python3"
  },
  "language_info": {
   "codemirror_mode": {
    "name": "ipython",
    "version": 3
   },
   "file_extension": ".py",
   "mimetype": "text/x-python",
   "name": "python",
   "nbconvert_exporter": "python",
   "pygments_lexer": "ipython3",
   "version": "3.9.12"
  }
 },
 "nbformat": 4,
 "nbformat_minor": 5
}
