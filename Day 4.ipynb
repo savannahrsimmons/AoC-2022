{
 "cells": [
  {
   "cell_type": "code",
   "execution_count": 22,
   "id": "4049ebf2",
   "metadata": {},
   "outputs": [
    {
     "name": "stdout",
     "output_type": "stream",
     "text": [
      "498\n"
     ]
    }
   ],
   "source": [
    "import re\n",
    "\n",
    "input = open('day_4.txt')\n",
    "\n",
    "result = 0\n",
    "for line in input.readlines():\n",
    "    nums = re.split('\\W', line)\n",
    "    a, b, x, y = int(nums[0]), int(nums[1]), int(nums[2]), int(nums[3])\n",
    "    if (a <= x and b >= y) or (a >= x and b <= y):\n",
    "        result += 1\n",
    "\n",
    "print(result)"
   ]
  },
  {
   "cell_type": "code",
   "execution_count": 26,
   "id": "49a3a742",
   "metadata": {},
   "outputs": [
    {
     "name": "stdout",
     "output_type": "stream",
     "text": [
      "859\n"
     ]
    }
   ],
   "source": [
    "input = open('day_4.txt')\n",
    "\n",
    "result = 0\n",
    "for line in input.readlines():\n",
    "    nums = re.split('\\W', line)\n",
    "    a, b, x, y = int(nums[0]), int(nums[1]), int(nums[2]), int(nums[3])\n",
    "    if (x <= a <= y) or (x <= b <= y) or (a <= x <= b):\n",
    "        result += 1\n",
    "\n",
    "print(result)"
   ]
  }
 ],
 "metadata": {
  "kernelspec": {
   "display_name": "Python 3 (ipykernel)",
   "language": "python",
   "name": "python3"
  },
  "language_info": {
   "codemirror_mode": {
    "name": "ipython",
    "version": 3
   },
   "file_extension": ".py",
   "mimetype": "text/x-python",
   "name": "python",
   "nbconvert_exporter": "python",
   "pygments_lexer": "ipython3",
   "version": "3.9.12"
  }
 },
 "nbformat": 4,
 "nbformat_minor": 5
}
