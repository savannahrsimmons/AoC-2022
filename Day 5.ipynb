{
 "cells": [
  {
   "cell_type": "code",
   "execution_count": 71,
   "id": "8d94cb3a",
   "metadata": {},
   "outputs": [
    {
     "name": "stdout",
     "output_type": "stream",
     "text": [
      "[['W', 'R', 'T', 'G'], ['W', 'V', 'S', 'M', 'P', 'H', 'C', 'G'], ['M', 'G', 'S', 'T', 'L', 'C'], ['F', 'R', 'W', 'M', 'D', 'H', 'J'], ['J', 'F', 'W', 'S', 'H', 'L', 'Q', 'P'], ['S', 'M', 'F', 'N', 'D', 'J', 'P'], ['J', 'S', 'C', 'G', 'F', 'D', 'B', 'Z'], ['B', 'T', 'R'], ['C', 'L', 'W', 'N', 'H']]\n",
      "[['J', 'P', 'P', 'B', 'F', 'S', 'H', 'W', 'T', 'S', 'J', 'D', 'G', 'C'], ['C', 'D'], ['M', 'S', 'W', 'J', 'Q', 'L'], ['H', 'B', 'H', 'L', 'F', 'W', 'D', 'J', 'C', 'N', 'M', 'W', 'R', 'T', 'F', 'C'], ['L', 'N', 'S'], ['V', 'F', 'Z', 'T', 'M', 'S'], ['G', 'R', 'G', 'R', 'P', 'W', 'H'], ['M'], ['G']]\n",
      "JCMHLVGMG"
     ]
    }
   ],
   "source": [
    "input = open('day_5.txt')\n",
    "\n",
    "\n",
    "stacks = [[],[],[],[],[],[],[],[],[]]\n",
    "\n",
    "\n",
    "content = input.readlines()\n",
    "linecount = 0\n",
    "\n",
    "for line in content:\n",
    "    if line == '\\n':\n",
    "        break\n",
    "\n",
    "    i = 0\n",
    "    stack = 0\n",
    "    while i < len(line):\n",
    "        if line[i] != ' ':\n",
    "            stacks[stack].append(line[i+1])\n",
    "        i += 4\n",
    "        stack += 1\n",
    "    linecount += 1\n",
    "        \n",
    "print(stacks)\n",
    "    \n",
    "for i in range(linecount + 1,len(content)):\n",
    "    line = content[i]\n",
    "    #print(line)\n",
    "    move = line.split()\n",
    "    for i in range(0,int(move[1])):\n",
    "        #print(stacks)\n",
    "        stacks[int(move[5])-1].insert(0,stacks[int(move[3])-1].pop(0))\n",
    "\n",
    "print(stacks)\n",
    "\n",
    "for stack in stacks:\n",
    "    print(stack[0],end=\"\")\n",
    "        "
   ]
  },
  {
   "cell_type": "code",
   "execution_count": 70,
   "id": "f0a7809f",
   "metadata": {},
   "outputs": [
    {
     "name": "stdout",
     "output_type": "stream",
     "text": [
      "[['W', 'R', 'T', 'G'], ['W', 'V', 'S', 'M', 'P', 'H', 'C', 'G'], ['M', 'G', 'S', 'T', 'L', 'C'], ['F', 'R', 'W', 'M', 'D', 'H', 'J'], ['J', 'F', 'W', 'S', 'H', 'L', 'Q', 'P'], ['S', 'M', 'F', 'N', 'D', 'J', 'P'], ['J', 'S', 'C', 'G', 'F', 'D', 'B', 'Z'], ['B', 'T', 'R'], ['C', 'L', 'W', 'N', 'H']]\n",
      "[['L', 'C', 'D', 'S', 'D', 'N', 'F', 'J', 'H', 'J', 'C', 'C', 'B', 'D'], ['V', 'T'], ['M', 'G', 'Q', 'R', 'F', 'S'], ['R', 'H', 'G', 'W', 'W', 'H', 'W', 'C', 'M', 'G', 'P', 'J', 'G', 'N', 'S', 'L'], ['W', 'T', 'J'], ['S', 'W', 'H', 'T', 'P', 'F'], ['S', 'F', 'L', 'M', 'R', 'M', 'B'], ['P'], ['Z']]\n",
      "LVMRWSSPZ"
     ]
    }
   ],
   "source": [
    "input = open('day_5.txt')\n",
    "\n",
    "\n",
    "stacks = [[],[],[],[],[],[],[],[],[]]\n",
    "\n",
    "content = input.readlines()\n",
    "linecount = 0\n",
    "\n",
    "for line in content:\n",
    "    if line == '\\n':\n",
    "        break\n",
    "\n",
    "    i = 0\n",
    "    stack = 0\n",
    "    while i < len(line):\n",
    "        if line[i] != ' ':\n",
    "            stacks[stack].append(line[i+1])\n",
    "        i += 4\n",
    "        stack += 1\n",
    "    linecount += 1\n",
    "        \n",
    "print(stacks)\n",
    "    \n",
    "for i in range(linecount + 1,len(content)):\n",
    "    line = content[i]\n",
    "    move = line.split()\n",
    "    newstack = []\n",
    "    for i in range(0,int(move[1])):\n",
    "        newstack.insert(0,stacks[int(move[3])-1].pop(0))\n",
    "    #I am proud of how naive and janky this adjustment for part 2 is. I refuse to improve\n",
    "    for i in range(0,int(move[1])):\n",
    "        stacks[int(move[5])-1].insert(0,newstack.pop(0))\n",
    "        \n",
    "        \n",
    "        \n",
    "\n",
    "print(stacks)\n",
    "\n",
    "for stack in stacks:\n",
    "    print(stack[0],end=\"\")\n",
    "        "
   ]
  }
 ],
 "metadata": {
  "kernelspec": {
   "display_name": "Python 3 (ipykernel)",
   "language": "python",
   "name": "python3"
  },
  "language_info": {
   "codemirror_mode": {
    "name": "ipython",
    "version": 3
   },
   "file_extension": ".py",
   "mimetype": "text/x-python",
   "name": "python",
   "nbconvert_exporter": "python",
   "pygments_lexer": "ipython3",
   "version": "3.9.12"
  }
 },
 "nbformat": 4,
 "nbformat_minor": 5
}
