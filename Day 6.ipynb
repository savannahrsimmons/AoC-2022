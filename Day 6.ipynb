{
 "cells": [
  {
   "cell_type": "code",
   "execution_count": 20,
   "id": "bfe21a5d",
   "metadata": {},
   "outputs": [
    {
     "name": "stdout",
     "output_type": "stream",
     "text": [
      "1766\n"
     ]
    }
   ],
   "source": [
    "input = open('day_6.txt')\n",
    "\n",
    "line = input.readlines()[0]\n",
    "result = 0\n",
    "\n",
    "for i in range(0,len(line)):\n",
    "    char_set = set()\n",
    "    for j in range(0,4):\n",
    "        char_set.add(line[i+j])\n",
    "    if len(char_set) == 4:\n",
    "        result = i+4\n",
    "        break\n",
    "        \n",
    "print(result)"
   ]
  },
  {
   "cell_type": "code",
   "execution_count": 21,
   "id": "566ad9e6",
   "metadata": {},
   "outputs": [
    {
     "name": "stdout",
     "output_type": "stream",
     "text": [
      "2383\n"
     ]
    }
   ],
   "source": [
    "input = open('day_6.txt')\n",
    "\n",
    "line = input.readlines()[0]\n",
    "result = 0\n",
    "\n",
    "for i in range(0,len(line)-3):\n",
    "    char_set = set()\n",
    "    for j in range(0,14):\n",
    "        char_set.add(line[i+j])\n",
    "    if len(char_set) == 14:\n",
    "        result = i+14\n",
    "        break\n",
    "        \n",
    "print(result)"
   ]
  }
 ],
 "metadata": {
  "kernelspec": {
   "display_name": "Python 3 (ipykernel)",
   "language": "python",
   "name": "python3"
  },
  "language_info": {
   "codemirror_mode": {
    "name": "ipython",
    "version": 3
   },
   "file_extension": ".py",
   "mimetype": "text/x-python",
   "name": "python",
   "nbconvert_exporter": "python",
   "pygments_lexer": "ipython3",
   "version": "3.9.12"
  }
 },
 "nbformat": 4,
 "nbformat_minor": 5
}
